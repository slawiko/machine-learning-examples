{
 "cells": [
  {
   "cell_type": "code",
   "execution_count": 1,
   "metadata": {},
   "outputs": [],
   "source": [
    "import pandasfeatures = pandas.read_csv('./features.csv', index_col='match_id')\n",
    "features = pandas.read_csv('./features.csv', index_col='match_id')"
   ]
  },
  {
   "cell_type": "code",
   "execution_count": 3,
   "metadata": {},
   "outputs": [
    {
     "data": {
      "text/html": [
       "<div>\n",
       "<table border=\"1\" class=\"dataframe\">\n",
       "  <thead>\n",
       "    <tr style=\"text-align: right;\">\n",
       "      <th></th>\n",
       "      <th>start_time</th>\n",
       "      <th>lobby_type</th>\n",
       "      <th>r1_hero</th>\n",
       "      <th>r1_level</th>\n",
       "      <th>r1_xp</th>\n",
       "      <th>r1_gold</th>\n",
       "      <th>r1_lh</th>\n",
       "      <th>r1_kills</th>\n",
       "      <th>r1_deaths</th>\n",
       "      <th>r1_items</th>\n",
       "      <th>...</th>\n",
       "      <th>dire_boots_count</th>\n",
       "      <th>dire_ward_observer_count</th>\n",
       "      <th>dire_ward_sentry_count</th>\n",
       "      <th>dire_first_ward_time</th>\n",
       "      <th>duration</th>\n",
       "      <th>radiant_win</th>\n",
       "      <th>tower_status_radiant</th>\n",
       "      <th>tower_status_dire</th>\n",
       "      <th>barracks_status_radiant</th>\n",
       "      <th>barracks_status_dire</th>\n",
       "    </tr>\n",
       "    <tr>\n",
       "      <th>match_id</th>\n",
       "      <th></th>\n",
       "      <th></th>\n",
       "      <th></th>\n",
       "      <th></th>\n",
       "      <th></th>\n",
       "      <th></th>\n",
       "      <th></th>\n",
       "      <th></th>\n",
       "      <th></th>\n",
       "      <th></th>\n",
       "      <th></th>\n",
       "      <th></th>\n",
       "      <th></th>\n",
       "      <th></th>\n",
       "      <th></th>\n",
       "      <th></th>\n",
       "      <th></th>\n",
       "      <th></th>\n",
       "      <th></th>\n",
       "      <th></th>\n",
       "      <th></th>\n",
       "    </tr>\n",
       "  </thead>\n",
       "  <tbody>\n",
       "    <tr>\n",
       "      <th>0</th>\n",
       "      <td>1430198770</td>\n",
       "      <td>7</td>\n",
       "      <td>11</td>\n",
       "      <td>5</td>\n",
       "      <td>2098</td>\n",
       "      <td>1489</td>\n",
       "      <td>20</td>\n",
       "      <td>0</td>\n",
       "      <td>0</td>\n",
       "      <td>7</td>\n",
       "      <td>...</td>\n",
       "      <td>4</td>\n",
       "      <td>2</td>\n",
       "      <td>2</td>\n",
       "      <td>-52</td>\n",
       "      <td>2874</td>\n",
       "      <td>1</td>\n",
       "      <td>1796</td>\n",
       "      <td>0</td>\n",
       "      <td>51</td>\n",
       "      <td>0</td>\n",
       "    </tr>\n",
       "    <tr>\n",
       "      <th>1</th>\n",
       "      <td>1430220345</td>\n",
       "      <td>0</td>\n",
       "      <td>42</td>\n",
       "      <td>4</td>\n",
       "      <td>1188</td>\n",
       "      <td>1033</td>\n",
       "      <td>9</td>\n",
       "      <td>0</td>\n",
       "      <td>1</td>\n",
       "      <td>12</td>\n",
       "      <td>...</td>\n",
       "      <td>4</td>\n",
       "      <td>3</td>\n",
       "      <td>1</td>\n",
       "      <td>-5</td>\n",
       "      <td>2463</td>\n",
       "      <td>1</td>\n",
       "      <td>1974</td>\n",
       "      <td>0</td>\n",
       "      <td>63</td>\n",
       "      <td>1</td>\n",
       "    </tr>\n",
       "    <tr>\n",
       "      <th>2</th>\n",
       "      <td>1430227081</td>\n",
       "      <td>7</td>\n",
       "      <td>33</td>\n",
       "      <td>4</td>\n",
       "      <td>1319</td>\n",
       "      <td>1270</td>\n",
       "      <td>22</td>\n",
       "      <td>0</td>\n",
       "      <td>0</td>\n",
       "      <td>12</td>\n",
       "      <td>...</td>\n",
       "      <td>4</td>\n",
       "      <td>3</td>\n",
       "      <td>1</td>\n",
       "      <td>13</td>\n",
       "      <td>2130</td>\n",
       "      <td>0</td>\n",
       "      <td>0</td>\n",
       "      <td>1830</td>\n",
       "      <td>0</td>\n",
       "      <td>63</td>\n",
       "    </tr>\n",
       "    <tr>\n",
       "      <th>3</th>\n",
       "      <td>1430263531</td>\n",
       "      <td>1</td>\n",
       "      <td>29</td>\n",
       "      <td>4</td>\n",
       "      <td>1779</td>\n",
       "      <td>1056</td>\n",
       "      <td>14</td>\n",
       "      <td>0</td>\n",
       "      <td>0</td>\n",
       "      <td>5</td>\n",
       "      <td>...</td>\n",
       "      <td>4</td>\n",
       "      <td>2</td>\n",
       "      <td>0</td>\n",
       "      <td>27</td>\n",
       "      <td>1459</td>\n",
       "      <td>0</td>\n",
       "      <td>1920</td>\n",
       "      <td>2047</td>\n",
       "      <td>50</td>\n",
       "      <td>63</td>\n",
       "    </tr>\n",
       "    <tr>\n",
       "      <th>4</th>\n",
       "      <td>1430282290</td>\n",
       "      <td>7</td>\n",
       "      <td>13</td>\n",
       "      <td>4</td>\n",
       "      <td>1431</td>\n",
       "      <td>1090</td>\n",
       "      <td>8</td>\n",
       "      <td>1</td>\n",
       "      <td>0</td>\n",
       "      <td>8</td>\n",
       "      <td>...</td>\n",
       "      <td>3</td>\n",
       "      <td>3</td>\n",
       "      <td>0</td>\n",
       "      <td>-16</td>\n",
       "      <td>2449</td>\n",
       "      <td>0</td>\n",
       "      <td>4</td>\n",
       "      <td>1974</td>\n",
       "      <td>3</td>\n",
       "      <td>63</td>\n",
       "    </tr>\n",
       "  </tbody>\n",
       "</table>\n",
       "<p>5 rows × 108 columns</p>\n",
       "</div>"
      ]
     },
     "output_type": "execute_result",
     "metadata": {}
    }
   ],
   "source": [
    "features.head()"
   ]
  },
  {
   "cell_type": "code",
   "execution_count": 173,
   "metadata": {},
   "outputs": [],
   "source": [
    "Xtr = features.drop(['start_time', 'radiant_win', 'tower_status_radiant', 'tower_status_dire', 'barracks_status_radiant', 'barracks_status_dire', 'duration'], 1)"
   ]
  },
  {
   "cell_type": "code",
   "execution_count": 174,
   "metadata": {},
   "outputs": [],
   "source": [
    "l = len(Xtr)"
   ]
  },
  {
   "cell_type": "code",
   "execution_count": 175,
   "metadata": {},
   "outputs": [],
   "source": [
    "diffs = np.subtract(l, Xtr.count())"
   ]
  },
  {
   "cell_type": "code",
   "execution_count": 176,
   "metadata": {},
   "outputs": [
    {
     "data": {
      "text/plain": [
       "193087"
      ]
     },
     "execution_count": 176,
     "output_type": "execute_result",
     "metadata": {}
    }
   ],
   "source": [
    "sum(diffs)"
   ]
  },
  {
   "cell_type": "code",
   "execution_count": 177,
   "metadata": {},
   "outputs": [
    {
     "data": {
      "text/plain": [
       "Index([u'first_blood_time', u'first_blood_team', u'first_blood_player1',\n",
       "       u'first_blood_player2', u'radiant_bottle_time', u'radiant_courier_time',\n",
       "       u'radiant_flying_courier_time', u'radiant_first_ward_time',\n",
       "       u'dire_bottle_time', u'dire_courier_time', u'dire_flying_courier_time',\n",
       "       u'dire_first_ward_time'],\n",
       "      dtype='object')"
      ]
     },
     "execution_count": 177,
     "output_type": "execute_result",
     "metadata": {}
    }
   ],
   "source": [
    "Xtr.columns[diffs != 0]"
   ]
  },
  {
   "cell_type": "code",
   "execution_count": 178,
   "metadata": {},
   "outputs": [],
   "source": [
    "Xtr.fillna(0, inplace=True)"
   ]
  },
  {
   "cell_type": "code",
   "execution_count": 179,
   "metadata": {},
   "outputs": [],
   "source": [
    "ytr = features['radiant_win']"
   ]
  },
  {
   "cell_type": "code",
   "execution_count": 180,
   "metadata": {},
   "outputs": [],
   "source": [
    "from sklearn.cross_validation import KFold\n",
    "from sklearn.ensemble import GradientBoostingClassifier as GBC\n",
    "from sklearn.metrics import roc_auc_score\n",
    "from sklearn.cross_validation import cross_val_score\n",
    "import time\n",
    "import datetime\n",
    "\n",
    "kf = KFold(l, n_folds=5, shuffle=True)\n",
    "times = []\n",
    "q = []\n",
    "for nCl in [5, 10, 15, 20, 25, 30]:\n",
    "    clf = GBC(n_estimators=nCl)\n",
    "    start_time = datetime.datetime.now()\n",
    "    scores = cross_val_score(clf, Xtr, ytr, scoring='roc_auc', cv=kf)\n",
    "    times.append(datetime.datetime.now() - start_time)\n",
    "    q.append(scores.mean())"
   ]
  },
  {
   "cell_type": "code",
   "execution_count": 181,
   "metadata": {},
   "outputs": [
    {
     "data": {
      "text/plain": [
       "[datetime.timedelta(0, 11, 13822),\n",
       " datetime.timedelta(0, 19, 72330),\n",
       " datetime.timedelta(0, 26, 892979),\n",
       " datetime.timedelta(0, 34, 428118),\n",
       " datetime.timedelta(0, 43, 289389),\n",
       " datetime.timedelta(0, 50, 757020)]"
      ]
     },
     "execution_count": 181,
     "output_type": "execute_result",
     "metadata": {}
    }
   ],
   "source": [
    "times"
   ]
  },
  {
   "cell_type": "code",
   "execution_count": 182,
   "metadata": {},
   "outputs": [
    {
     "data": {
      "text/plain": [
       "[0.63658173831220122,\n",
       " 0.66432838913622638,\n",
       " 0.67537425886469515,\n",
       " 0.68201226489900812,\n",
       " 0.68625288700321352,\n",
       " 0.68922597986198342]"
      ]
     },
     "execution_count": 182,
     "output_type": "execute_result",
     "metadata": {}
    }
   ],
   "source": [
    "q"
   ]
  },
  {
   "cell_type": "code",
   "execution_count": 183,
   "metadata": {},
   "outputs": [],
   "source": [
    "from sklearn.linear_model import LogisticRegression\n",
    "from sklearn.preprocessing import StandardScaler\n",
    "\n",
    "scaler = StandardScaler()\n",
    "Xsc = scaler.fit_transform(Xtr)"
   ]
  },
  {
   "cell_type": "code",
   "execution_count": 184,
   "metadata": {},
   "outputs": [
    {
     "data": {
      "text/plain": [
       "GridSearchCV(cv=sklearn.cross_validation.KFold(n=97230, n_folds=5, shuffle=True, random_state=None),\n",
       "       error_score='raise',\n",
       "       estimator=LogisticRegression(C=1.0, class_weight=None, dual=False, fit_intercept=True,\n",
       "          intercept_scaling=1, max_iter=100, multi_class='ovr', n_jobs=1,\n",
       "          penalty='l2', random_state=None, solver='liblinear', tol=0.0001,\n",
       "          verbose=0, warm_start=False),\n",
       "       fit_params={}, iid=True, n_jobs=1,\n",
       "       param_grid={'C': array([  1.00000e-05,   1.00000e-04,   1.00000e-03,   1.00000e-02,\n",
       "         1.00000e-01,   1.00000e+00,   1.00000e+01,   1.00000e+02,\n",
       "         1.00000e+03,   1.00000e+04,   1.00000e+05])},\n",
       "       pre_dispatch='2*n_jobs', refit=True, scoring='roc_auc', verbose=0)"
      ]
     },
     "execution_count": 184,
     "output_type": "execute_result",
     "metadata": {}
    }
   ],
   "source": [
    "from sklearn.grid_search import GridSearchCV\n",
    "\n",
    "grid = {'C': np.power(10.0, np.arange(-5, 6))}\n",
    "kf = KFold(l, n_folds=5, shuffle=True)\n",
    "clf = LogisticRegression()\n",
    "\n",
    "gs = GridSearchCV(clf, grid, scoring='roc_auc', cv=kf)\n",
    "gs.fit(Xsc, ytr)"
   ]
  },
  {
   "cell_type": "code",
   "execution_count": 185,
   "metadata": {},
   "outputs": [
    {
     "data": {
      "text/plain": [
       "[mean: 0.69508, std: 0.00489, params: {'C': 1.0000000000000001e-05},\n",
       " mean: 0.71118, std: 0.00404, params: {'C': 0.0001},\n",
       " mean: 0.71617, std: 0.00350, params: {'C': 0.001},\n",
       " mean: 0.71636, std: 0.00342, params: {'C': 0.01},\n",
       " mean: 0.71634, std: 0.00342, params: {'C': 0.10000000000000001},\n",
       " mean: 0.71634, std: 0.00342, params: {'C': 1.0},\n",
       " mean: 0.71633, std: 0.00342, params: {'C': 10.0},\n",
       " mean: 0.71633, std: 0.00342, params: {'C': 100.0},\n",
       " mean: 0.71633, std: 0.00342, params: {'C': 1000.0},\n",
       " mean: 0.71633, std: 0.00342, params: {'C': 10000.0},\n",
       " mean: 0.71633, std: 0.00342, params: {'C': 100000.0}]"
      ]
     },
     "execution_count": 185,
     "output_type": "execute_result",
     "metadata": {}
    }
   ],
   "source": [
    "gs.grid_scores_"
   ]
  },
  {
   "cell_type": "code",
   "execution_count": 186,
   "metadata": {},
   "outputs": [],
   "source": [
    "noCatX = Xtr.drop(Xtr.filter(regex='[rd]._hero').columns,1).drop('lobby_type', 1)"
   ]
  },
  {
   "cell_type": "code",
   "execution_count": 187,
   "metadata": {},
   "outputs": [],
   "source": [
    "noCatXsc = scaler.fit_transform(noCatX)"
   ]
  },
  {
   "cell_type": "code",
   "execution_count": 188,
   "metadata": {},
   "outputs": [
    {
     "data": {
      "text/plain": [
       "GridSearchCV(cv=sklearn.cross_validation.KFold(n=97230, n_folds=5, shuffle=True, random_state=None),\n",
       "       error_score='raise',\n",
       "       estimator=LogisticRegression(C=1.0, class_weight=None, dual=False, fit_intercept=True,\n",
       "          intercept_scaling=1, max_iter=100, multi_class='ovr', n_jobs=1,\n",
       "          penalty='l2', random_state=None, solver='liblinear', tol=0.0001,\n",
       "          verbose=0, warm_start=False),\n",
       "       fit_params={}, iid=True, n_jobs=1,\n",
       "       param_grid={'C': array([  1.00000e-05,   1.00000e-04,   1.00000e-03,   1.00000e-02,\n",
       "         1.00000e-01,   1.00000e+00,   1.00000e+01,   1.00000e+02,\n",
       "         1.00000e+03,   1.00000e+04,   1.00000e+05])},\n",
       "       pre_dispatch='2*n_jobs', refit=True, scoring='roc_auc', verbose=0)"
      ]
     },
     "execution_count": 188,
     "output_type": "execute_result",
     "metadata": {}
    }
   ],
   "source": [
    "gs.fit(noCatXsc, ytr)"
   ]
  },
  {
   "cell_type": "code",
   "execution_count": 189,
   "metadata": {},
   "outputs": [
    {
     "data": {
      "text/plain": [
       "[mean: 0.69503, std: 0.00489, params: {'C': 1.0000000000000001e-05},\n",
       " mean: 0.71117, std: 0.00406, params: {'C': 0.0001},\n",
       " mean: 0.71622, std: 0.00354, params: {'C': 0.001},\n",
       " mean: 0.71642, std: 0.00346, params: {'C': 0.01},\n",
       " mean: 0.71640, std: 0.00346, params: {'C': 0.10000000000000001},\n",
       " mean: 0.71639, std: 0.00346, params: {'C': 1.0},\n",
       " mean: 0.71639, std: 0.00346, params: {'C': 10.0},\n",
       " mean: 0.71639, std: 0.00347, params: {'C': 100.0},\n",
       " mean: 0.71639, std: 0.00346, params: {'C': 1000.0},\n",
       " mean: 0.71639, std: 0.00346, params: {'C': 10000.0},\n",
       " mean: 0.71639, std: 0.00346, params: {'C': 100000.0}]"
      ]
     },
     "execution_count": 189,
     "output_type": "execute_result",
     "metadata": {}
    }
   ],
   "source": [
    "gs.grid_scores_"
   ]
  },
  {
   "cell_type": "code",
   "execution_count": 190,
   "metadata": {},
   "outputs": [],
   "source": [
    "uni = np.unique(Xtr.filter(regex=r\"^[rd]\\d_hero$\").values)"
   ]
  },
  {
   "cell_type": "code",
   "execution_count": 191,
   "metadata": {},
   "outputs": [
    {
     "data": {
      "text/plain": [
       "108"
      ]
     },
     "execution_count": 191,
     "output_type": "execute_result",
     "metadata": {}
    }
   ],
   "source": [
    "len(uni)"
   ]
  },
  {
   "cell_type": "code",
   "execution_count": null,
   "metadata": {},
   "outputs": [],
   "source": [
    "heroes = {}\n",
    "for i in range(len(uni)):\n",
    "    heroes[uni[i]] = i"
   ]
  },
  {
   "cell_type": "code",
   "execution_count": 193,
   "metadata": {},
   "outputs": [],
   "source": [
    "X_pick = np.zeros((features.shape[0], 108))\n",
    "\n",
    "for i, match_id in enumerate(features.index):\n",
    "    for p in xrange(5):\n",
    "        X_pick[i, heroes[features.ix[match_id, 'r%d_hero' % (p+1)]]] = 1\n",
    "        X_pick[i, heroes[features.ix[match_id, 'd%d_hero' % (p+1)]]] = -1"
   ]
  },
  {
   "cell_type": "code",
   "execution_count": 195,
   "metadata": {},
   "outputs": [],
   "source": [
    "noCatXscHs = np.hstack([noCatXsc, X_pick])"
   ]
  },
  {
   "cell_type": "code",
   "execution_count": 196,
   "metadata": {},
   "outputs": [
    {
     "data": {
      "text/plain": [
       "GridSearchCV(cv=sklearn.cross_validation.KFold(n=97230, n_folds=5, shuffle=True, random_state=None),\n",
       "       error_score='raise',\n",
       "       estimator=LogisticRegression(C=1.0, class_weight=None, dual=False, fit_intercept=True,\n",
       "          intercept_scaling=1, max_iter=100, multi_class='ovr', n_jobs=1,\n",
       "          penalty='l2', random_state=None, solver='liblinear', tol=0.0001,\n",
       "          verbose=0, warm_start=False),\n",
       "       fit_params={}, iid=True, n_jobs=1,\n",
       "       param_grid={'C': array([  1.00000e-05,   1.00000e-04,   1.00000e-03,   1.00000e-02,\n",
       "         1.00000e-01,   1.00000e+00,   1.00000e+01,   1.00000e+02,\n",
       "         1.00000e+03,   1.00000e+04,   1.00000e+05])},\n",
       "       pre_dispatch='2*n_jobs', refit=True, scoring='roc_auc', verbose=0)"
      ]
     },
     "execution_count": 196,
     "output_type": "execute_result",
     "metadata": {}
    }
   ],
   "source": [
    "gs.fit(noCatXscHs, ytr)"
   ]
  },
  {
   "cell_type": "code",
   "execution_count": 197,
   "metadata": {},
   "outputs": [
    {
     "data": {
      "text/plain": [
       "[mean: 0.69914, std: 0.00479, params: {'C': 1.0000000000000001e-05},\n",
       " mean: 0.72491, std: 0.00363, params: {'C': 0.0001},\n",
       " mean: 0.74619, std: 0.00215, params: {'C': 0.001},\n",
       " mean: 0.75167, std: 0.00141, params: {'C': 0.01},\n",
       " mean: 0.75188, std: 0.00129, params: {'C': 0.10000000000000001},\n",
       " mean: 0.75187, std: 0.00127, params: {'C': 1.0},\n",
       " mean: 0.75187, std: 0.00127, params: {'C': 10.0},\n",
       " mean: 0.75187, std: 0.00127, params: {'C': 100.0},\n",
       " mean: 0.75187, std: 0.00127, params: {'C': 1000.0},\n",
       " mean: 0.75187, std: 0.00127, params: {'C': 10000.0},\n",
       " mean: 0.75187, std: 0.00127, params: {'C': 100000.0}]"
      ]
     },
     "execution_count": 197,
     "output_type": "execute_result",
     "metadata": {}
    }
   ],
   "source": [
    "gs.grid_scores_"
   ]
  },
  {
   "cell_type": "code",
   "execution_count": 198,
   "metadata": {},
   "outputs": [],
   "source": [
    "Xtest = pandas.read_csv('./features_test.csv', index_col='match_id')"
   ]
  },
  {
   "cell_type": "code",
   "execution_count": 199,
   "metadata": {},
   "outputs": [],
   "source": [
    "noCatTest = Xtest.drop(Xtest.filter(regex='[rd]._hero').columns,1).drop('lobby_type', 1).drop('start_time',1)"
   ]
  },
  {
   "cell_type": "code",
   "execution_count": 200,
   "metadata": {},
   "outputs": [],
   "source": [
    "noCatTest.fillna(0, inplace=True)"
   ]
  },
  {
   "cell_type": "code",
   "execution_count": 205,
   "metadata": {},
   "outputs": [],
   "source": [
    "noCatTestSc = scaler.transform(noCatTest)"
   ]
  },
  {
   "cell_type": "code",
   "execution_count": 209,
   "metadata": {},
   "outputs": [],
   "source": [
    "X_pick_test = np.zeros((Xtest.shape[0], 108))\n",
    "\n",
    "for i, match_id in enumerate(Xtest.index):\n",
    "    for p in xrange(5):\n",
    "        X_pick_test[i, heroes[Xtest.ix[match_id, 'r%d_hero' % (p+1)]]] = 1\n",
    "        X_pick_test[i, heroes[Xtest.ix[match_id, 'd%d_hero' % (p+1)]]] = -1"
   ]
  },
  {
   "cell_type": "code",
   "execution_count": 213,
   "metadata": {},
   "outputs": [],
   "source": [
    "noCatTestScHs = np.hstack([noCatTestSc, X_pick_test])"
   ]
  },
  {
   "cell_type": "code",
   "execution_count": 215,
   "metadata": {},
   "outputs": [
    {
     "data": {
      "text/plain": [
       "LogisticRegression(C=0.1, class_weight=None, dual=False, fit_intercept=True,\n",
       "          intercept_scaling=1, max_iter=100, multi_class='ovr', n_jobs=1,\n",
       "          penalty='l2', random_state=None, solver='liblinear', tol=0.0001,\n",
       "          verbose=0, warm_start=False)"
      ]
     },
     "execution_count": 215,
     "output_type": "execute_result",
     "metadata": {}
    }
   ],
   "source": [
    "optClf = LogisticRegression(C=0.1)\n",
    "optClf.fit(noCatXscHs, ytr)"
   ]
  },
  {
   "cell_type": "code",
   "execution_count": 216,
   "metadata": {},
   "outputs": [],
   "source": [
    "preds = optClf.predict_proba(noCatTestScHs)[:, 1]"
   ]
  },
  {
   "cell_type": "code",
   "execution_count": 217,
   "metadata": {},
   "outputs": [
    {
     "data": {
      "text/plain": [
       "array([ 0.83541878,  0.77379803,  0.2021713 , ...,  0.22879715,\n",
       "        0.61545847,  0.41810845])"
      ]
     },
     "execution_count": 217,
     "output_type": "execute_result",
     "metadata": {}
    }
   ],
   "source": [
    "preds"
   ]
  },
  {
   "cell_type": "code",
   "execution_count": 218,
   "metadata": {},
   "outputs": [
    {
     "data": {
      "text/plain": [
       "0.0083485828805909199"
      ]
     },
     "execution_count": 218,
     "output_type": "execute_result",
     "metadata": {}
    }
   ],
   "source": [
    "min(preds)"
   ]
  },
  {
   "cell_type": "code",
   "execution_count": 219,
   "metadata": {},
   "outputs": [
    {
     "data": {
      "text/plain": [
       "0.99653580085467541"
      ]
     },
     "execution_count": 219,
     "output_type": "execute_result",
     "metadata": {}
    }
   ],
   "source": [
    "max(preds)"
   ]
  },
  {
   "cell_type": "code",
   "execution_count": null,
   "metadata": {},
   "outputs": [],
   "source": [
    ""
   ]
  }
 ],
 "metadata": {
  "kernelspec": {
   "display_name": "Python 2",
   "language": "python",
   "name": "python2"
  },
  "language_info": {
   "codemirror_mode": {
    "name": "ipython",
    "version": 2.0
   },
   "file_extension": ".py",
   "mimetype": "text/x-python",
   "name": "python",
   "nbconvert_exporter": "python",
   "pygments_lexer": "ipython2",
   "version": "2.7.6"
  }
 },
 "nbformat": 4,
 "nbformat_minor": 0
}